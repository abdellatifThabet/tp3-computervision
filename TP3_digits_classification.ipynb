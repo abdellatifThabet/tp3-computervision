{
 "cells": [
  {
   "cell_type": "markdown",
   "metadata": {},
   "source": [
    "### <font color='blue'>  <h1><center>TP3: Hand Written Digits Classification </center></h1> </font> "
   ]
  },
  {
   "cell_type": "markdown",
   "metadata": {},
   "source": [
    "### Hand Written dataset is a collection of images for Hand Written Digits from 0 to 9 , we intend here to build a model to predict the value of the digit corresponding to the image. CNN must be the best approach here but we are going to go through some classic algorithms instead. The dataset is already available from sklearn library."
   ]
  },
  {
   "cell_type": "code",
   "execution_count": 1,
   "metadata": {
    "scrolled": true
   },
   "outputs": [],
   "source": [
    "from sklearn import datasets, neighbors, linear_model\n",
    "import matplotlib.pyplot as plt\n",
    "%matplotlib inline"
   ]
  },
  {
   "cell_type": "code",
   "execution_count": 2,
   "metadata": {},
   "outputs": [],
   "source": [
    "X_digits, y_digits = datasets.load_digits(return_X_y=True)\n"
   ]
  },
  {
   "cell_type": "markdown",
   "metadata": {},
   "source": [
    "### <span style='background:yellow'>This is a scaling operation we are resizing the pixels value to be between 0 and 1  </span>\n"
   ]
  },
  {
   "cell_type": "code",
   "execution_count": 3,
   "metadata": {},
   "outputs": [],
   "source": [
    "X_digits = X_digits / X_digits.max()\n"
   ]
  },
  {
   "cell_type": "code",
   "execution_count": 4,
   "metadata": {},
   "outputs": [
    {
     "data": {
      "image/png": "[encoded data removed]",
      "text/plain": [
       "<Figure size 432x288 with 1 Axes>"
      ]
     },
     "metadata": {
      "needs_background": "light"
     },
     "output_type": "display_data"
    }
   ],
   "source": [
    "# Display the first image:\n",
    "import matplotlib.pyplot as plt\n",
    "from PIL import Image\n",
    "img = Image.fromarray((X_digits[0]*255).reshape(8,8))\n",
    "imgplot = plt.imshow(img)\n",
    "plt.show()"
   ]
  },
  {
   "cell_type": "code",
   "execution_count": 6,
   "metadata": {},
   "outputs": [
    {
     "name": "stdout",
     "output_type": "stream",
     "text": [
      "there are 1797 images in the dataset with  64 pixels each one \n"
     ]
    }
   ],
   "source": [
    "print('there are {} images in the dataset with  {} pixels each one '.format(X_digits.shape[0],X_digits.shape[1]))\n"
   ]
  },
  {
   "cell_type": "markdown",
   "metadata": {},
   "source": [
    "### <span style='background:pink'> Here we'll split the data with 10% for the test  </span>"
   ]
  },
  {
   "cell_type": "code",
   "execution_count": 7,
   "metadata": {},
   "outputs": [],
   "source": [
    "from sklearn.model_selection import train_test_split\n",
    "X_train,X_test,y_train,y_test = train_test_split(X_digits,y_digits, test_size = 0.1,random_state = 0)"
   ]
  },
  {
   "cell_type": "markdown",
   "metadata": {},
   "source": [
    "### <span style='background:pink'> We need to test a bunch of algorithms on our dataset and for that  we'll define a pipeline and each time we tune some hyper parameters for each algorithm to see which is the best model  </span>"
   ]
  },
  {
   "cell_type": "code",
   "execution_count": 8,
   "metadata": {},
   "outputs": [],
   "source": [
    "import numpy as np\n",
    "from sklearn.pipeline import Pipeline\n",
    "from sklearn.naive_bayes import GaussianNB\n",
    "from sklearn.svm import SVC\n",
    "from sklearn.linear_model import LogisticRegression\n",
    "from sklearn.neighbors import KNeighborsClassifier\n",
    "from sklearn.tree import DecisionTreeClassifier\n",
    "from sklearn.ensemble import RandomForestClassifier\n",
    "from sklearn.ensemble import GradientBoostingClassifier\n",
    "from sklearn.ensemble import AdaBoostClassifier\n",
    "import xgboost as xgb\n"
   ]
  },
  {
   "cell_type": "code",
   "execution_count": 9,
   "metadata": {},
   "outputs": [],
   "source": [
    "# K-fold cross-validation and GridSearchCV\n",
    "pipelines = []\n",
    "params = []\n",
    "names = []\n",
    "\n",
    "#\n",
    "# add Gausian naive bayes\n",
    "pipelines.append(Pipeline([('clf', GaussianNB())])) ### Gausian naive bayes\n",
    "params.append({'clf__priors':[None],'clf__var_smoothing':[0.0000001,0.00000001,0.000000001]})\n",
    "names.append('GausianNB') \n",
    "## add SVM\n",
    "pipelines.append(Pipeline([('clf', SVC())])) ### support vector machine\n",
    "params.append({'clf__C':[0.01,0.1,1,10],'clf__kernel':['rbf','poly']})\n",
    "names.append('SVM')   \n",
    "## add LogisticRegression\n",
    "pipelines.append(Pipeline([('clf', LogisticRegression())])) ### LogisticRegression\n",
    "params.append({'clf__penalty':['l1','l2','elasticnet'],'clf__solver':['newton-cg','lbfgs','liblinear','sag','saga']})\n",
    "names.append('LogisticRegression')    \n",
    "## add KNeighborsClassifier\n",
    "pipelines.append(Pipeline([('clf', KNeighborsClassifier())])) ### KNeighborsClassifier\n",
    "params.append({'clf__n_neighbors':np.arange(5,10),'clf__n_jobs':[-1]})\n",
    "names.append('KNeighborsClassifier') \n",
    "## add DecisionTreeClassifier\n",
    "pipelines.append(Pipeline([('clf', DecisionTreeClassifier())])) ### DecisionTreeClassifier\n",
    "params.append({'clf__criterion':['geni','entropy']})\n",
    "names.append('DecisionTree')    \n",
    "## add RandomForestClassifier\n",
    "pipelines.append(Pipeline([('clf', RandomForestClassifier())])) ### RandomForestClassifier\n",
    "params.append({'clf__n_estimators':[100,200,500],'clf__criterion':['gini','entropy'],'clf__n_jobs':[-1]})\n",
    "names.append('RandomForestClassifier')    \n",
    "###### Boosting techniques \"usualy best ones \"\n",
    "## add GradientBoostingClassifier\n",
    "pipelines.append(Pipeline([('clf', GradientBoostingClassifier())])) ### GradientBoostingClassifier\n",
    "params.append({'clf__n_estimators':[100,200,500],'clf__loss':['deviance','exponential'],'clf__learning_rate':[0.001,0.01,0.1]})\n",
    "names.append('GradientBoostingClassifier')  \n",
    "## add AdaBoostClassifier\n",
    "pipelines.append(Pipeline([('clf', AdaBoostClassifier())])) ### AdaBoostClassifier\n",
    "params.append({'clf__n_estimators':[100,200,500],'clf__learning_rate':[0.001,0.01,0.1]})\n",
    "names.append('AdaBoostClassifier')  \n",
    "## add XGBoost\n",
    "pipelines.append(Pipeline([('clf', xgb.XGBClassifier())])) ### XGBoost\n",
    "params.append({'clf__n_estimators':[100,200,500],'clf__max_depth':np.arange(3,6),'clf__learning_rate':[0.001,0.01,0.1]})\n",
    "names.append('XGBoost')  "
   ]
  },
  {
   "cell_type": "markdown",
   "metadata": {},
   "source": [
    "### <span style='background:yellow'>Cross valdation is primordial here because we need a better use of our data by training each time on different part of data </span>"
   ]
  },
  {
   "cell_type": "code",
   "execution_count": 10,
   "metadata": {},
   "outputs": [
    {
     "name": "stdout",
     "output_type": "stream",
     "text": [
      "GausianNB R2: 0.645532558093222\n",
      "GausianNB best parameters: {'clf__priors': None, 'clf__var_smoothing': 1e-07}\n",
      "SVM R2: 0.9858144860854408\n",
      "SVM best parameters: {'clf__C': 10, 'clf__kernel': 'rbf'}\n"
     ]
    },
    {
     "name": "stderr",
     "output_type": "stream",
     "text": [
      "/home/abdou/anaconda3/lib/python3.8/site-packages/sklearn/linear_model/_sag.py:329: ConvergenceWarning: The max_iter was reached which means the coef_ did not converge\n",
      "  warnings.warn(\"The max_iter was reached which means \"\n"
     ]
    },
    {
     "name": "stdout",
     "output_type": "stream",
     "text": [
      "LogisticRegression R2: 0.910288192443452\n",
      "LogisticRegression best parameters: {'clf__penalty': 'l1', 'clf__solver': 'saga'}\n"
     ]
    },
    {
     "name": "stderr",
     "output_type": "stream",
     "text": [
      "/home/abdou/anaconda3/lib/python3.8/site-packages/sklearn/linear_model/_sag.py:329: ConvergenceWarning: The max_iter was reached which means the coef_ did not converge\n",
      "  warnings.warn(\"The max_iter was reached which means \"\n"
     ]
    },
    {
     "name": "stdout",
     "output_type": "stream",
     "text": [
      "KNeighborsClassifier R2: 0.9560179843538343\n",
      "KNeighborsClassifier best parameters: {'clf__n_jobs': -1, 'clf__n_neighbors': 5}\n",
      "DecisionTree R2: 0.6413617530918143\n",
      "DecisionTree best parameters: {'clf__criterion': 'entropy'}\n",
      "RandomForestClassifier R2: 0.9573650314758384\n",
      "RandomForestClassifier best parameters: {'clf__criterion': 'gini', 'clf__n_estimators': 500, 'clf__n_jobs': -1}\n",
      "GradientBoostingClassifier R2: 0.921960478689224\n",
      "GradientBoostingClassifier best parameters: {'clf__learning_rate': 0.1, 'clf__loss': 'deviance', 'clf__n_estimators': 500}\n",
      "AdaBoostClassifier R2: 0.27938896335690944\n",
      "AdaBoostClassifier best parameters: {'clf__learning_rate': 0.1, 'clf__n_estimators': 500}\n",
      "XGBoost R2: 0.9118569493949771\n",
      "XGBoost best parameters: {'clf__learning_rate': 0.1, 'clf__max_depth': 4, 'clf__n_estimators': 200}\n"
     ]
    }
   ],
   "source": [
    "from sklearn.model_selection import KFold, GridSearchCV, cross_val_score\n",
    "\n",
    "def model(pipeline, parameters, name, X, y):    \n",
    "    cv = KFold(n_splits=5, shuffle=True, random_state=32)\n",
    "    grid_obj = GridSearchCV(estimator=pipeline, param_grid=parameters, cv=cv, scoring='r2', n_jobs=-1)\n",
    "    grid_obj.fit(X,y)  \n",
    "    print(name, 'R2:', grid_obj.best_score_)\n",
    "    print(name, 'best parameters:', grid_obj.best_params_)\n",
    "    estimator = grid_obj.best_estimator_\n",
    "    estimator.fit(X,y) # training sur tout training dataset\n",
    "    return estimator \n",
    "estimators = []\n",
    "for i in range(len(pipelines)):    \n",
    "    estimators.append(model(pipelines[i], params[i], names[i], X_train, y_train))"
   ]
  },
  {
   "cell_type": "code",
   "execution_count": 11,
   "metadata": {},
   "outputs": [
    {
     "name": "stdout",
     "output_type": "stream",
     "text": [
      "\n",
      "Performance : GausianNB\n",
      "\n",
      " r2_score : 0.7033830066926082\n",
      "\n",
      "Performance : SVM\n",
      "\n",
      " r2_score : 0.9561815805341353\n",
      "\n",
      "Performance : LogisticRegression\n",
      "\n",
      " r2_score : 0.9218009744916876\n",
      "\n",
      "Performance : KNeighborsClassifier\n",
      "\n",
      " r2_score : 0.9319129174453487\n",
      "\n",
      "Performance : DecisionTree\n",
      "\n",
      " r2_score : 0.646081996621862\n",
      "\n",
      "Performance : RandomForestClassifier\n",
      "\n",
      " r2_score : 0.9386542127477894\n",
      "\n",
      "Performance : GradientBoostingClassifier\n",
      "\n",
      " r2_score : 0.8853979798585077\n",
      "\n",
      "Performance : AdaBoostClassifier\n",
      "\n",
      " r2_score : 0.18969630464662512\n",
      "\n",
      "Performance : XGBoost\n",
      "\n",
      " r2_score : 0.8382089127414226\n"
     ]
    }
   ],
   "source": [
    "# Evaluation\n",
    "from sklearn.metrics import r2_score \n",
    "for i, estimator in enumerate(estimators):\n",
    "    print('\\nPerformance :', names[i])\n",
    "    y_pred = estimator.predict(X_test)\n",
    "    print('\\n r2_score :', r2_score(y_test, y_pred))"
   ]
  },
  {
   "cell_type": "markdown",
   "metadata": {},
   "source": [
    "### Having tuned our models we can observe that support vector machine has the best performance on both train and test data so we can say it is the best model"
   ]
  },
  {
   "cell_type": "code",
   "execution_count": 12,
   "metadata": {},
   "outputs": [
    {
     "data": {
      "text/plain": [
       "SVC(C=10)"
      ]
     },
     "execution_count": 12,
     "metadata": {},
     "output_type": "execute_result"
    }
   ],
   "source": [
    "best_model = SVC(C = 10, kernel = 'rbf')\n",
    "best_model.fit(X_train,y_train)"
   ]
  },
  {
   "cell_type": "code",
   "execution_count": 13,
   "metadata": {},
   "outputs": [],
   "source": [
    "y_pred = best_model.predict(X_test)"
   ]
  },
  {
   "cell_type": "code",
   "execution_count": 14,
   "metadata": {},
   "outputs": [
    {
     "data": {
      "text/plain": [
       "array([2, 8, 2, 6, 6, 7, 1, 9, 8, 5, 2, 8, 6, 6, 6, 6, 1, 0, 5, 8, 8, 7,\n",
       "       8, 4, 7, 5, 4, 9, 2, 9, 4, 7, 6, 8, 9, 4, 3, 1, 0, 1, 8, 6, 7, 7,\n",
       "       1, 0, 7, 6, 2, 1, 9, 6, 7, 9, 0, 0, 5, 1, 6, 3, 0, 2, 3, 4, 1, 9,\n",
       "       2, 6, 9, 1, 8, 3, 5, 1, 2, 8, 2, 2, 9, 7, 2, 3, 6, 0, 5, 3, 7, 5,\n",
       "       1, 2, 9, 9, 3, 1, 7, 7, 4, 8, 5, 8, 5, 5, 2, 5, 9, 0, 7, 1, 4, 7,\n",
       "       3, 4, 8, 9, 7, 9, 8, 2, 6, 5, 2, 5, 8, 4, 1, 7, 0, 6, 1, 5, 5, 9,\n",
       "       9, 5, 9, 9, 5, 7, 5, 6, 2, 8, 6, 9, 6, 1, 5, 1, 5, 9, 9, 1, 5, 3,\n",
       "       6, 1, 8, 9, 8, 7, 6, 7, 6, 5, 6, 0, 8, 8, 9, 8, 6, 1, 0, 4, 1, 6,\n",
       "       3, 8, 6, 7])"
      ]
     },
     "execution_count": 14,
     "metadata": {},
     "output_type": "execute_result"
    }
   ],
   "source": [
    "y_pred"
   ]
  },
  {
   "cell_type": "markdown",
   "metadata": {},
   "source": [
    "### This function is meant for a better confusion matrix view"
   ]
  },
  {
   "cell_type": "code",
   "execution_count": 15,
   "metadata": {},
   "outputs": [],
   "source": [
    "import itertools\n",
    "def plot_confusion_matrix(cm,classes,\n",
    "                         normalize = False,\n",
    "                         title = 'confusion_matrix',\n",
    "                         cmap = plt.cm.Blues):\n",
    "    plt.imshow(cm, interpolation='nearest', cmap = cmap)\n",
    "    plt.title(title)\n",
    "    plt.colorbar()\n",
    "    tick_marks = np.arange(len(classes))\n",
    "    plt.xticks(tick_marks, classes, rotation = 45)\n",
    "    plt.yticks(tick_marks, classes)\n",
    "    if normalize:\n",
    "        cm = cm.astype('float') / cm.sum(axis = 1)[:,np.newaxis]\n",
    "        print(\"normalized confusion matrix\")\n",
    "    else:\n",
    "        print(\"confusion matrix, without normalization\")\n",
    "    print(cm)\n",
    "    thresh = cm.max() / 2.\n",
    "    for i,j in itertools.product(range(cm.shape[0]), range(cm.shape[1])):\n",
    "        plt.text(j,i,cm[i,j],\n",
    "                 horizontalalignment=\"center\",\n",
    "                 color=\"white\" if cm[i,j]> thresh else \"black\")\n",
    "        \n",
    "    plt.tight_layout()\n",
    "    plt.ylabel(\"True model\")\n",
    "    plt.xlabel('predicted label')"
   ]
  },
  {
   "cell_type": "code",
   "execution_count": 16,
   "metadata": {},
   "outputs": [],
   "source": [
    "\n",
    "# Constructing the confusion matrix.\n",
    "from sklearn.metrics import confusion_matrix\n",
    "cm = confusion_matrix(y_test, y_pred)"
   ]
  },
  {
   "cell_type": "code",
   "execution_count": 17,
   "metadata": {},
   "outputs": [
    {
     "name": "stdout",
     "output_type": "stream",
     "text": [
      "confusion matrix, without normalization\n",
      "[[11  0  0  0  0  0  0  0  0  0]\n",
      " [ 0 20  0  0  0  0  0  0  0  0]\n",
      " [ 0  0 16  0  0  0  0  0  0  0]\n",
      " [ 0  0  0 10  0  0  0  0  0  0]\n",
      " [ 0  0  0  0 10  0  0  0  0  0]\n",
      " [ 0  0  0  0  0 21  0  0  0  0]\n",
      " [ 0  0  0  0  0  0 25  0  0  0]\n",
      " [ 0  0  0  0  0  0  0 20  0  0]\n",
      " [ 0  1  0  0  0  0  0  0 22  0]\n",
      " [ 0  0  0  0  0  1  0  0  0 23]]\n"
     ]
    },
    {
     "data": {
      "image/png": "[encoded data removed]",
      "text/plain": [
       "<Figure size 432x288 with 2 Axes>"
      ]
     },
     "metadata": {
      "needs_background": "light"
     },
     "output_type": "display_data"
    }
   ],
   "source": [
    "cm_plot_labels = ['0','1','2','3','4','5','6','7','8','9']\n",
    "plot_confusion_matrix(cm = cm, classes = cm_plot_labels, title='confusion matrix')"
   ]
  },
  {
   "cell_type": "code",
   "execution_count": 18,
   "metadata": {},
   "outputs": [
    {
     "name": "stdout",
     "output_type": "stream",
     "text": [
      "precision score :  0.9888888888888889\n",
      "recall score :  0.9888888888888889\n",
      "f1 score : 0.9888888888888889\n"
     ]
    }
   ],
   "source": [
    "# Finding precision and recall\n",
    "from sklearn.metrics import precision_score, recall_score, f1_score\n",
    "# precision formula : Precision = True Positives / (True Positives + False Positives)\n",
    "# recall formula : Recall = True Positives / (True Positives + False Negatives)\n",
    "print(\"precision score : \", precision_score(y_test, y_pred,average = 'micro', zero_division = \"warn\"))\n",
    "print(\"recall score : \", recall_score(y_test, y_pred, average = 'micro', zero_division = \"warn\"))\n",
    "print(\"f1 score :\", f1_score(y_test, y_pred, average = 'micro', zero_division = \"warn\"))"
   ]
  },
  {
   "cell_type": "markdown",
   "metadata": {},
   "source": [
    "### <span style='background:yellow'>f1-score:This is the harmonic mean of Precision and Recall and gives a better measure of the incorrectly classified cases than the Accuracy Metric. </span>\n",
    "### <span style='background:yellow'>Accuracy is used when the True Positives and True negatives are more important while F1-score is used when the False Negatives and False Positives are crucial </span>\n",
    "### <span style='background:yellow'>Accuracy can be used when the class distribution is similar while F1-score is a better metric when there are imbalanced classes as in the above case. </span>"
   ]
  },
  {
   "cell_type": "code",
   "execution_count": 19,
   "metadata": {},
   "outputs": [
    {
     "data": {
      "image/png": "[encoded data removed]",
      "text/plain": [
       "<Figure size 432x288 with 1 Axes>"
      ]
     },
     "metadata": {
      "needs_background": "light"
     },
     "output_type": "display_data"
    },
    {
     "data": {
      "image/png": "[encoded data removed]",
      "text/plain": [
       "<Figure size 432x288 with 1 Axes>"
      ]
     },
     "metadata": {
      "needs_background": "light"
     },
     "output_type": "display_data"
    }
   ],
   "source": [
    "from sklearn.metrics import roc_curve,auc\n",
    "from sklearn.metrics import roc_auc_score\n",
    "from sklearn.preprocessing import label_binarize\n",
    "y_test = label_binarize(y_test, classes=[0,1,2,3,4,5,6,7,8,9])\n",
    "y_pred = label_binarize(y_pred, classes=[0,1,2,3,4,5,6,7,8,9])\n",
    "\n",
    "n_classes = 10\n",
    "# Compute ROC curve and ROC area for each class\n",
    "fpr = dict()\n",
    "tpr = dict()\n",
    "roc_auc = dict()\n",
    "for i in range(n_classes):\n",
    "    fpr[i], tpr[i], _ = roc_curve(y_test[:, i], y_pred[:, i])\n",
    "    roc_auc[i] = auc(fpr[i], tpr[i])\n",
    "\n",
    "# Compute micro-average ROC curve and ROC area\n",
    "fpr[\"micro\"], tpr[\"micro\"], _ = roc_curve(y_test.ravel(), y_pred.ravel())\n",
    "roc_auc[\"micro\"] = auc(fpr[\"micro\"], tpr[\"micro\"])\n",
    "\n",
    "# Plot of a ROC curve for a specific class\n",
    "plt.figure()\n",
    "plt.plot(fpr[2], tpr[2], label='ROC curve (area = %0.2f)' % roc_auc[2])\n",
    "plt.plot([0, 1], [0, 1], 'k--')\n",
    "plt.xlim([0.0, 1.0])\n",
    "plt.ylim([0.0, 1.05])\n",
    "plt.xlabel('False Positive Rate')\n",
    "plt.ylabel('True Positive Rate')\n",
    "plt.title('Receiver operating characteristic example')\n",
    "plt.legend(loc=\"lower right\")\n",
    "plt.show()\n",
    "\n",
    "# Plot ROC curve\n",
    "plt.figure()\n",
    "plt.plot(fpr[\"micro\"], tpr[\"micro\"],\n",
    "         label='micro-average ROC curve (area = {0:0.2f})'\n",
    "               ''.format(roc_auc[\"micro\"]))\n",
    "for i in range(n_classes):\n",
    "    plt.plot(fpr[i], tpr[i], label='ROC curve of class {0} (area = {1:0.2f})'\n",
    "                                   ''.format(i, roc_auc[i]))\n",
    "\n",
    "plt.plot([0, 1], [0, 1], 'k--')\n",
    "plt.xlim([0.0, 1.0])\n",
    "plt.ylim([0.0, 1.05])\n",
    "plt.xlabel('False Positive Rate')\n",
    "plt.ylabel('True Positive Rate')\n",
    "plt.title('Some extension of Receiver operating characteristic to multi-class')\n",
    "plt.legend(loc=\"lower right\")\n",
    "plt.show()"
   ]
  },
  {
   "cell_type": "code",
   "execution_count": 20,
   "metadata": {},
   "outputs": [],
   "source": [
    "## Precision recall curve"
   ]
  },
  {
   "cell_type": "code",
   "execution_count": 21,
   "metadata": {},
   "outputs": [],
   "source": [
    "from sklearn.metrics import precision_recall_curve\n"
   ]
  },
  {
   "cell_type": "code",
   "execution_count": 22,
   "metadata": {},
   "outputs": [
    {
     "data": {
      "image/png": "[encoded data removed]",
      "text/plain": [
       "<Figure size 432x288 with 1 Axes>"
      ]
     },
     "metadata": {
      "needs_background": "light"
     },
     "output_type": "display_data"
    },
    {
     "data": {
      "image/png": "[encoded data removed]",
      "text/plain": [
       "<Figure size 432x288 with 1 Axes>"
      ]
     },
     "metadata": {
      "needs_background": "light"
     },
     "output_type": "display_data"
    }
   ],
   "source": [
    "# Compute micro-average ROC curve and ROC area\n",
    "fpr[\"micro\"], tpr[\"micro\"], _ = precision_recall_curve(y_test.ravel(), y_pred.ravel())\n",
    "roc_auc[\"micro\"] = auc(fpr[\"micro\"], tpr[\"micro\"])\n",
    "\n",
    "# Plot of a ROC curve for a specific class\n",
    "plt.figure()\n",
    "plt.plot(fpr[2], tpr[2], label='PR curve (area = %0.2f)' % roc_auc[2])\n",
    "plt.plot([0, 1], [0, 1], 'k--')\n",
    "plt.xlim([0.0, 1.0])\n",
    "plt.ylim([0.0, 1.05])\n",
    "plt.xlabel('False Positive Rate')\n",
    "plt.ylabel('True Positive Rate')\n",
    "plt.title('Receiver operating characteristic example')\n",
    "plt.legend(loc=\"lower right\")\n",
    "plt.show()\n",
    "\n",
    "# Plot ROC curve\n",
    "plt.figure()\n",
    "plt.plot(fpr[\"micro\"], tpr[\"micro\"],\n",
    "         label='micro-average pr curve (area = {0:0.2f})'\n",
    "               ''.format(roc_auc[\"micro\"]))\n",
    "for i in range(n_classes):\n",
    "    plt.plot(fpr[i], tpr[i], label='PR curve of class {0} (area = {1:0.2f})'\n",
    "                                   ''.format(i, roc_auc[i]))\n",
    "\n",
    "plt.plot([0, 1], [0, 1], 'k--')\n",
    "plt.xlim([0.0, 1.0])\n",
    "plt.ylim([0.0, 1.05])\n",
    "plt.xlabel('False Positive Rate')\n",
    "plt.ylabel('True Positive Rate')\n",
    "plt.title('Some extension of Receiver operating characteristic to multi-class')\n",
    "plt.legend(loc=\"lower right\")\n",
    "plt.show()"
   ]
  },
  {
   "cell_type": "markdown",
   "metadata": {},
   "source": [
    "### We use pickle here to save our model  "
   ]
  },
  {
   "cell_type": "code",
   "execution_count": 23,
   "metadata": {},
   "outputs": [],
   "source": [
    "import pickle\n",
    "with open(\"svm_model.pkl\", 'wb') as fid:\n",
    "    pickle.dump(best_model, fid) "
   ]
  },
  {
   "cell_type": "code",
   "execution_count": 24,
   "metadata": {},
   "outputs": [],
   "source": [
    "############## TESTING THE MODEL ****************"
   ]
  },
  {
   "cell_type": "markdown",
   "metadata": {},
   "source": [
    "### To test the model we need to transform the image we read to gray scale and resize it to match the size of images we trained the model on (8,8), to do that we we'll use the opencv library"
   ]
  },
  {
   "cell_type": "code",
   "execution_count": 25,
   "metadata": {},
   "outputs": [],
   "source": [
    "#resizing image\n",
    "import cv2\n",
    " \n",
    "src = cv2.imread('6.png', cv2.IMREAD_GRAYSCALE)\n",
    "\n",
    "# dsize\n"
   ]
  },
  {
   "cell_type": "code",
   "execution_count": 26,
   "metadata": {},
   "outputs": [],
   "source": [
    "size = (8, 8)\n",
    "\n",
    "# resize image\n",
    "test_img = cv2.resize(src, size)"
   ]
  },
  {
   "cell_type": "code",
   "execution_count": 27,
   "metadata": {},
   "outputs": [
    {
     "data": {
      "image/png": "[encoded data removed]",
      "text/plain": [
       "<Figure size 432x288 with 1 Axes>"
      ]
     },
     "metadata": {
      "needs_background": "light"
     },
     "output_type": "display_data"
    }
   ],
   "source": [
    "test_img = test_img / test_img.max()\n",
    "\n",
    "plt.imshow(test_img,cmap=\"gray\")\n",
    "plt.show()"
   ]
  },
  {
   "cell_type": "code",
   "execution_count": 28,
   "metadata": {},
   "outputs": [],
   "source": [
    "#test_img = 1-test_img\n"
   ]
  },
  {
   "cell_type": "code",
   "execution_count": 29,
   "metadata": {},
   "outputs": [],
   "source": [
    "#test_img = test_img.reshape(-1,64)[0]\n",
    "test_img = test_img.reshape(1,-1)\n",
    "test_img\n",
    "res = best_model.predict([test_img[0]])[0]\n"
   ]
  },
  {
   "cell_type": "code",
   "execution_count": 30,
   "metadata": {},
   "outputs": [
    {
     "name": "stdout",
     "output_type": "stream",
     "text": [
      "the model predicted digit is :1\n"
     ]
    }
   ],
   "source": [
    "print(\"the model predicted digit is :{}\".format(res))\n"
   ]
  },
  {
   "cell_type": "markdown",
   "metadata": {},
   "source": [
    "### We notice that whenever we test our model in images other than digit dataset images , the model would usaualy give us bad results"
   ]
  },
  {
   "cell_type": "code",
   "execution_count": null,
   "metadata": {},
   "outputs": [],
   "source": []
  }
 ],
 "metadata": {
  "kernelspec": {
   "display_name": "Python 3",
   "language": "python",
   "name": "python3"
  },
  "language_info": {
   "codemirror_mode": {
    "name": "ipython",
    "version": 3
   },
   "file_extension": ".py",
   "mimetype": "text/x-python",
   "name": "python",
   "nbconvert_exporter": "python",
   "pygments_lexer": "ipython3",
   "version": "3.8.3"
  }
 },
 "nbformat": 4,
 "nbformat_minor": 4
}
